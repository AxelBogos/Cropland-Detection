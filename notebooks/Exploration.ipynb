{
 "cells": [
  {
   "cell_type": "markdown",
   "metadata": {},
   "source": [
    "# Data Loading and Pre-processing"
   ]
  },
  {
   "cell_type": "markdown",
   "metadata": {},
   "source": [
    "## Imports and data-loading"
   ]
  },
  {
   "cell_type": "code",
   "execution_count": 23,
   "metadata": {},
   "outputs": [],
   "source": [
    "# Standard imports\n",
    "import pandas as pd\n",
    "import numpy as np\n",
    "\n",
    "# utilities\n",
    "from sklearn.preprocessing import StandardScaler\n"
   ]
  },
  {
   "cell_type": "code",
   "execution_count": 24,
   "metadata": {},
   "outputs": [],
   "source": [
    "train = pd.read_csv('../data/orig/train.csv')\n",
    "test = pd.read_csv('../data/orig/test.csv')\n",
    "train.head()\n",
    "# Remove useless index column\n",
    "train = train.drop(columns=['Unnamed: 0'])\n",
    "test = test.drop(columns=['S.No'])"
   ]
  },
  {
   "cell_type": "code",
   "execution_count": 13,
   "metadata": {},
   "outputs": [
    {
     "data": {
      "text/plain": "   S2_B2_jan  S2_B3_jan    S2_B4_jan    S2_B5_jan    S2_B6_jan    S2_B7_jan  \\\n0 -14.271277 -21.134172   957.531174  1019.557045  1230.022834  1435.138891   \n1 -12.341429 -14.744978   949.227883   895.845779   987.517322  1350.496916   \n2 -12.317847 -17.026201  1087.616069  1086.401035  1185.755955  1529.674085   \n3 -15.332478 -20.978203  2987.224569  3163.553102  3412.572434  3908.443371   \n4 -11.739502 -11.374262   691.825857   782.111227   478.448214   976.753128   \n\n     S2_B8_jan   S2_B8A_jan    S2_B9_jan   S2_B11_jan  ...   S2_B11_dec  \\\n0  1693.702270  1805.411109  1891.557355  2020.567257  ...  2203.025469   \n1  1930.239804  2048.686546  2375.680146  2259.903290  ...  2922.382762   \n2  1858.981635  1904.667487  2082.954737  2115.713139  ...  2548.726966   \n3  4044.232162  4231.353770  3682.709329  4518.882323  ...  2537.545246   \n4  3189.134129  3813.893119  3861.824527  4174.591554  ...  4276.302643   \n\n    S2_B12_dec    S1_VV_dec    S1_VH_dec  ERA5_temperature_2m_dec  \\\n0   795.862978  2747.777894  1688.997611               289.382220   \n1  1140.796180  2528.590979  1934.261859               266.578370   \n2   521.102434  1556.082048   741.212901               276.467873   \n3  1073.588565  2388.141112  1367.682434               276.101799   \n4   371.861994  2080.641023   692.730434               298.663246   \n\n   ERA5_total_precipitation_dec  topo_elevation_dec  topo_slope_dec  NDVI_dec  \\\n0                      0.000147         1886.384195        0.749163  0.307887   \n1                      0.002876           69.876216        1.385904  0.097779   \n2                      0.001622           91.279743        2.125908  0.418492   \n3                      0.003720          767.817294        8.427714  0.336528   \n4                      0.001763           61.500923        1.203899  0.595404   \n\n   LABELS  \n0     0.0  \n1     1.0  \n2     1.0  \n3     1.0  \n4     1.0  \n\n[5 rows x 217 columns]",
      "text/html": "<div>\n<style scoped>\n    .dataframe tbody tr th:only-of-type {\n        vertical-align: middle;\n    }\n\n    .dataframe tbody tr th {\n        vertical-align: top;\n    }\n\n    .dataframe thead th {\n        text-align: right;\n    }\n</style>\n<table border=\"1\" class=\"dataframe\">\n  <thead>\n    <tr style=\"text-align: right;\">\n      <th></th>\n      <th>S2_B2_jan</th>\n      <th>S2_B3_jan</th>\n      <th>S2_B4_jan</th>\n      <th>S2_B5_jan</th>\n      <th>S2_B6_jan</th>\n      <th>S2_B7_jan</th>\n      <th>S2_B8_jan</th>\n      <th>S2_B8A_jan</th>\n      <th>S2_B9_jan</th>\n      <th>S2_B11_jan</th>\n      <th>...</th>\n      <th>S2_B11_dec</th>\n      <th>S2_B12_dec</th>\n      <th>S1_VV_dec</th>\n      <th>S1_VH_dec</th>\n      <th>ERA5_temperature_2m_dec</th>\n      <th>ERA5_total_precipitation_dec</th>\n      <th>topo_elevation_dec</th>\n      <th>topo_slope_dec</th>\n      <th>NDVI_dec</th>\n      <th>LABELS</th>\n    </tr>\n  </thead>\n  <tbody>\n    <tr>\n      <th>0</th>\n      <td>-14.271277</td>\n      <td>-21.134172</td>\n      <td>957.531174</td>\n      <td>1019.557045</td>\n      <td>1230.022834</td>\n      <td>1435.138891</td>\n      <td>1693.702270</td>\n      <td>1805.411109</td>\n      <td>1891.557355</td>\n      <td>2020.567257</td>\n      <td>...</td>\n      <td>2203.025469</td>\n      <td>795.862978</td>\n      <td>2747.777894</td>\n      <td>1688.997611</td>\n      <td>289.382220</td>\n      <td>0.000147</td>\n      <td>1886.384195</td>\n      <td>0.749163</td>\n      <td>0.307887</td>\n      <td>0.0</td>\n    </tr>\n    <tr>\n      <th>1</th>\n      <td>-12.341429</td>\n      <td>-14.744978</td>\n      <td>949.227883</td>\n      <td>895.845779</td>\n      <td>987.517322</td>\n      <td>1350.496916</td>\n      <td>1930.239804</td>\n      <td>2048.686546</td>\n      <td>2375.680146</td>\n      <td>2259.903290</td>\n      <td>...</td>\n      <td>2922.382762</td>\n      <td>1140.796180</td>\n      <td>2528.590979</td>\n      <td>1934.261859</td>\n      <td>266.578370</td>\n      <td>0.002876</td>\n      <td>69.876216</td>\n      <td>1.385904</td>\n      <td>0.097779</td>\n      <td>1.0</td>\n    </tr>\n    <tr>\n      <th>2</th>\n      <td>-12.317847</td>\n      <td>-17.026201</td>\n      <td>1087.616069</td>\n      <td>1086.401035</td>\n      <td>1185.755955</td>\n      <td>1529.674085</td>\n      <td>1858.981635</td>\n      <td>1904.667487</td>\n      <td>2082.954737</td>\n      <td>2115.713139</td>\n      <td>...</td>\n      <td>2548.726966</td>\n      <td>521.102434</td>\n      <td>1556.082048</td>\n      <td>741.212901</td>\n      <td>276.467873</td>\n      <td>0.001622</td>\n      <td>91.279743</td>\n      <td>2.125908</td>\n      <td>0.418492</td>\n      <td>1.0</td>\n    </tr>\n    <tr>\n      <th>3</th>\n      <td>-15.332478</td>\n      <td>-20.978203</td>\n      <td>2987.224569</td>\n      <td>3163.553102</td>\n      <td>3412.572434</td>\n      <td>3908.443371</td>\n      <td>4044.232162</td>\n      <td>4231.353770</td>\n      <td>3682.709329</td>\n      <td>4518.882323</td>\n      <td>...</td>\n      <td>2537.545246</td>\n      <td>1073.588565</td>\n      <td>2388.141112</td>\n      <td>1367.682434</td>\n      <td>276.101799</td>\n      <td>0.003720</td>\n      <td>767.817294</td>\n      <td>8.427714</td>\n      <td>0.336528</td>\n      <td>1.0</td>\n    </tr>\n    <tr>\n      <th>4</th>\n      <td>-11.739502</td>\n      <td>-11.374262</td>\n      <td>691.825857</td>\n      <td>782.111227</td>\n      <td>478.448214</td>\n      <td>976.753128</td>\n      <td>3189.134129</td>\n      <td>3813.893119</td>\n      <td>3861.824527</td>\n      <td>4174.591554</td>\n      <td>...</td>\n      <td>4276.302643</td>\n      <td>371.861994</td>\n      <td>2080.641023</td>\n      <td>692.730434</td>\n      <td>298.663246</td>\n      <td>0.001763</td>\n      <td>61.500923</td>\n      <td>1.203899</td>\n      <td>0.595404</td>\n      <td>1.0</td>\n    </tr>\n  </tbody>\n</table>\n<p>5 rows × 217 columns</p>\n</div>"
     },
     "execution_count": 13,
     "metadata": {},
     "output_type": "execute_result"
    }
   ],
   "source": [
    "train.head()"
   ]
  },
  {
   "cell_type": "code",
   "execution_count": 14,
   "metadata": {},
   "outputs": [
    {
     "data": {
      "text/plain": "S2_B2_jan                       float64\nS2_B3_jan                       float64\nS2_B4_jan                       float64\nS2_B5_jan                       float64\nS2_B6_jan                       float64\n                                 ...   \nERA5_total_precipitation_dec    float64\ntopo_elevation_dec              float64\ntopo_slope_dec                  float64\nNDVI_dec                        float64\nLABELS                          float64\nLength: 217, dtype: object"
     },
     "execution_count": 14,
     "metadata": {},
     "output_type": "execute_result"
    }
   ],
   "source": [
    "train.dtypes"
   ]
  },
  {
   "cell_type": "markdown",
   "metadata": {},
   "source": [
    "## Removal of correlated features"
   ]
  },
  {
   "cell_type": "code",
   "execution_count": 15,
   "metadata": {},
   "outputs": [
    {
     "data": {
      "text/plain": "                              S2_B2_jan  S2_B3_jan  S2_B4_jan  S2_B5_jan  \\\nS2_B2_jan                           NaN        NaN        NaN        NaN   \nS2_B3_jan                           NaN        NaN        NaN        NaN   \nS2_B4_jan                           NaN        NaN        NaN   0.996445   \nS2_B5_jan                           NaN        NaN        NaN        NaN   \nS2_B6_jan                           NaN        NaN        NaN        NaN   \nS2_B7_jan                           NaN        NaN        NaN        NaN   \nS2_B8_jan                           NaN        NaN        NaN        NaN   \nS2_B8A_jan                          NaN        NaN        NaN        NaN   \nS2_B9_jan                           NaN        NaN        NaN        NaN   \nS2_B11_jan                          NaN        NaN        NaN        NaN   \nS2_B12_jan                          NaN        NaN        NaN        NaN   \nS1_VV_jan                           NaN        NaN        NaN        NaN   \nS1_VH_jan                           NaN        NaN        NaN        NaN   \nERA5_temperature_2m_jan             NaN        NaN        NaN        NaN   \nERA5_total_precipitation_jan        NaN        NaN        NaN        NaN   \ntopo_elevation_jan                  NaN        NaN        NaN        NaN   \ntopo_slope_jan                      NaN        NaN        NaN        NaN   \nNDVI_jan                            NaN        NaN        NaN        NaN   \nS2_B2_feb                           NaN        NaN        NaN        NaN   \nS2_B3_feb                           NaN        NaN        NaN        NaN   \n\n                              S2_B6_jan  S2_B7_jan  S2_B8_jan  S2_B8A_jan  \\\nS2_B2_jan                           NaN        NaN        NaN         NaN   \nS2_B3_jan                           NaN        NaN        NaN         NaN   \nS2_B4_jan                      0.986259   0.983646   0.943895    0.900987   \nS2_B5_jan                      0.993192   0.991253   0.955720    0.915622   \nS2_B6_jan                           NaN   0.995991   0.943824         NaN   \nS2_B7_jan                           NaN        NaN   0.961790    0.920910   \nS2_B8_jan                           NaN        NaN        NaN    0.991239   \nS2_B8A_jan                          NaN        NaN        NaN         NaN   \nS2_B9_jan                           NaN        NaN        NaN         NaN   \nS2_B11_jan                          NaN        NaN        NaN         NaN   \nS2_B12_jan                          NaN        NaN        NaN         NaN   \nS1_VV_jan                           NaN        NaN        NaN         NaN   \nS1_VH_jan                           NaN        NaN        NaN         NaN   \nERA5_temperature_2m_jan             NaN        NaN        NaN         NaN   \nERA5_total_precipitation_jan        NaN        NaN        NaN         NaN   \ntopo_elevation_jan                  NaN        NaN        NaN         NaN   \ntopo_slope_jan                      NaN        NaN        NaN         NaN   \nNDVI_jan                            NaN        NaN        NaN         NaN   \nS2_B2_feb                           NaN        NaN        NaN         NaN   \nS2_B3_feb                           NaN        NaN        NaN         NaN   \n\n                              S2_B9_jan  S2_B11_jan  ...  S2_B11_dec  \\\nS2_B2_jan                           NaN         NaN  ...         NaN   \nS2_B3_jan                           NaN         NaN  ...         NaN   \nS2_B4_jan                           NaN         NaN  ...         NaN   \nS2_B5_jan                      0.914422         NaN  ...         NaN   \nS2_B6_jan                           NaN         NaN  ...         NaN   \nS2_B7_jan                      0.918681         NaN  ...         NaN   \nS2_B8_jan                      0.986729    0.978979  ...         NaN   \nS2_B8A_jan                     0.993940    0.996131  ...         NaN   \nS2_B9_jan                           NaN    0.990915  ...         NaN   \nS2_B11_jan                          NaN         NaN  ...         NaN   \nS2_B12_jan                          NaN         NaN  ...         NaN   \nS1_VV_jan                           NaN         NaN  ...         NaN   \nS1_VH_jan                           NaN         NaN  ...         NaN   \nERA5_temperature_2m_jan             NaN         NaN  ...         NaN   \nERA5_total_precipitation_jan        NaN         NaN  ...         NaN   \ntopo_elevation_jan                  NaN         NaN  ...         NaN   \ntopo_slope_jan                      NaN         NaN  ...         NaN   \nNDVI_jan                            NaN         NaN  ...         NaN   \nS2_B2_feb                           NaN         NaN  ...         NaN   \nS2_B3_feb                           NaN         NaN  ...         NaN   \n\n                              S2_B12_dec  S1_VV_dec  S1_VH_dec  \\\nS2_B2_jan                            NaN        NaN        NaN   \nS2_B3_jan                            NaN        NaN        NaN   \nS2_B4_jan                            NaN        NaN        NaN   \nS2_B5_jan                            NaN        NaN        NaN   \nS2_B6_jan                            NaN        NaN        NaN   \nS2_B7_jan                            NaN        NaN        NaN   \nS2_B8_jan                            NaN        NaN        NaN   \nS2_B8A_jan                           NaN        NaN        NaN   \nS2_B9_jan                            NaN        NaN        NaN   \nS2_B11_jan                           NaN        NaN        NaN   \nS2_B12_jan                           NaN        NaN        NaN   \nS1_VV_jan                            NaN        NaN        NaN   \nS1_VH_jan                            NaN        NaN        NaN   \nERA5_temperature_2m_jan              NaN        NaN        NaN   \nERA5_total_precipitation_jan         NaN        NaN        NaN   \ntopo_elevation_jan                   NaN        NaN        NaN   \ntopo_slope_jan                       NaN        NaN        NaN   \nNDVI_jan                             NaN        NaN        NaN   \nS2_B2_feb                            NaN        NaN        NaN   \nS2_B3_feb                            NaN        NaN        NaN   \n\n                              ERA5_temperature_2m_dec  \\\nS2_B2_jan                                         NaN   \nS2_B3_jan                                         NaN   \nS2_B4_jan                                         NaN   \nS2_B5_jan                                         NaN   \nS2_B6_jan                                         NaN   \nS2_B7_jan                                         NaN   \nS2_B8_jan                                         NaN   \nS2_B8A_jan                                        NaN   \nS2_B9_jan                                         NaN   \nS2_B11_jan                                        NaN   \nS2_B12_jan                                        NaN   \nS1_VV_jan                                         NaN   \nS1_VH_jan                                         NaN   \nERA5_temperature_2m_jan                      0.984588   \nERA5_total_precipitation_jan                      NaN   \ntopo_elevation_jan                                NaN   \ntopo_slope_jan                                    NaN   \nNDVI_jan                                          NaN   \nS2_B2_feb                                         NaN   \nS2_B3_feb                                         NaN   \n\n                              ERA5_total_precipitation_dec  \\\nS2_B2_jan                                              NaN   \nS2_B3_jan                                              NaN   \nS2_B4_jan                                              NaN   \nS2_B5_jan                                              NaN   \nS2_B6_jan                                              NaN   \nS2_B7_jan                                              NaN   \nS2_B8_jan                                              NaN   \nS2_B8A_jan                                             NaN   \nS2_B9_jan                                              NaN   \nS2_B11_jan                                             NaN   \nS2_B12_jan                                             NaN   \nS1_VV_jan                                              NaN   \nS1_VH_jan                                              NaN   \nERA5_temperature_2m_jan                                NaN   \nERA5_total_precipitation_jan                           NaN   \ntopo_elevation_jan                                     NaN   \ntopo_slope_jan                                         NaN   \nNDVI_jan                                               NaN   \nS2_B2_feb                                              NaN   \nS2_B3_feb                                              NaN   \n\n                              topo_elevation_dec  topo_slope_dec  NDVI_dec  \\\nS2_B2_jan                                    NaN             NaN       NaN   \nS2_B3_jan                                    NaN             NaN       NaN   \nS2_B4_jan                                    NaN             NaN       NaN   \nS2_B5_jan                                    NaN             NaN       NaN   \nS2_B6_jan                                    NaN             NaN       NaN   \nS2_B7_jan                                    NaN             NaN       NaN   \nS2_B8_jan                                    NaN             NaN       NaN   \nS2_B8A_jan                                   NaN             NaN       NaN   \nS2_B9_jan                                    NaN             NaN       NaN   \nS2_B11_jan                                   NaN             NaN       NaN   \nS2_B12_jan                                   NaN             NaN       NaN   \nS1_VV_jan                                    NaN             NaN       NaN   \nS1_VH_jan                                    NaN             NaN       NaN   \nERA5_temperature_2m_jan                      NaN             NaN       NaN   \nERA5_total_precipitation_jan                 NaN             NaN       NaN   \ntopo_elevation_jan                           1.0             NaN       NaN   \ntopo_slope_jan                               NaN             1.0       NaN   \nNDVI_jan                                     NaN             NaN       NaN   \nS2_B2_feb                                    NaN             NaN       NaN   \nS2_B3_feb                                    NaN             NaN       NaN   \n\n                              LABELS  \nS2_B2_jan                        NaN  \nS2_B3_jan                        NaN  \nS2_B4_jan                        NaN  \nS2_B5_jan                        NaN  \nS2_B6_jan                        NaN  \nS2_B7_jan                        NaN  \nS2_B8_jan                        NaN  \nS2_B8A_jan                       NaN  \nS2_B9_jan                        NaN  \nS2_B11_jan                       NaN  \nS2_B12_jan                       NaN  \nS1_VV_jan                        NaN  \nS1_VH_jan                        NaN  \nERA5_temperature_2m_jan          NaN  \nERA5_total_precipitation_jan     NaN  \ntopo_elevation_jan               NaN  \ntopo_slope_jan                   NaN  \nNDVI_jan                         NaN  \nS2_B2_feb                        NaN  \nS2_B3_feb                        NaN  \n\n[20 rows x 217 columns]",
      "text/html": "<div>\n<style scoped>\n    .dataframe tbody tr th:only-of-type {\n        vertical-align: middle;\n    }\n\n    .dataframe tbody tr th {\n        vertical-align: top;\n    }\n\n    .dataframe thead th {\n        text-align: right;\n    }\n</style>\n<table border=\"1\" class=\"dataframe\">\n  <thead>\n    <tr style=\"text-align: right;\">\n      <th></th>\n      <th>S2_B2_jan</th>\n      <th>S2_B3_jan</th>\n      <th>S2_B4_jan</th>\n      <th>S2_B5_jan</th>\n      <th>S2_B6_jan</th>\n      <th>S2_B7_jan</th>\n      <th>S2_B8_jan</th>\n      <th>S2_B8A_jan</th>\n      <th>S2_B9_jan</th>\n      <th>S2_B11_jan</th>\n      <th>...</th>\n      <th>S2_B11_dec</th>\n      <th>S2_B12_dec</th>\n      <th>S1_VV_dec</th>\n      <th>S1_VH_dec</th>\n      <th>ERA5_temperature_2m_dec</th>\n      <th>ERA5_total_precipitation_dec</th>\n      <th>topo_elevation_dec</th>\n      <th>topo_slope_dec</th>\n      <th>NDVI_dec</th>\n      <th>LABELS</th>\n    </tr>\n  </thead>\n  <tbody>\n    <tr>\n      <th>S2_B2_jan</th>\n      <td>NaN</td>\n      <td>NaN</td>\n      <td>NaN</td>\n      <td>NaN</td>\n      <td>NaN</td>\n      <td>NaN</td>\n      <td>NaN</td>\n      <td>NaN</td>\n      <td>NaN</td>\n      <td>NaN</td>\n      <td>...</td>\n      <td>NaN</td>\n      <td>NaN</td>\n      <td>NaN</td>\n      <td>NaN</td>\n      <td>NaN</td>\n      <td>NaN</td>\n      <td>NaN</td>\n      <td>NaN</td>\n      <td>NaN</td>\n      <td>NaN</td>\n    </tr>\n    <tr>\n      <th>S2_B3_jan</th>\n      <td>NaN</td>\n      <td>NaN</td>\n      <td>NaN</td>\n      <td>NaN</td>\n      <td>NaN</td>\n      <td>NaN</td>\n      <td>NaN</td>\n      <td>NaN</td>\n      <td>NaN</td>\n      <td>NaN</td>\n      <td>...</td>\n      <td>NaN</td>\n      <td>NaN</td>\n      <td>NaN</td>\n      <td>NaN</td>\n      <td>NaN</td>\n      <td>NaN</td>\n      <td>NaN</td>\n      <td>NaN</td>\n      <td>NaN</td>\n      <td>NaN</td>\n    </tr>\n    <tr>\n      <th>S2_B4_jan</th>\n      <td>NaN</td>\n      <td>NaN</td>\n      <td>NaN</td>\n      <td>0.996445</td>\n      <td>0.986259</td>\n      <td>0.983646</td>\n      <td>0.943895</td>\n      <td>0.900987</td>\n      <td>NaN</td>\n      <td>NaN</td>\n      <td>...</td>\n      <td>NaN</td>\n      <td>NaN</td>\n      <td>NaN</td>\n      <td>NaN</td>\n      <td>NaN</td>\n      <td>NaN</td>\n      <td>NaN</td>\n      <td>NaN</td>\n      <td>NaN</td>\n      <td>NaN</td>\n    </tr>\n    <tr>\n      <th>S2_B5_jan</th>\n      <td>NaN</td>\n      <td>NaN</td>\n      <td>NaN</td>\n      <td>NaN</td>\n      <td>0.993192</td>\n      <td>0.991253</td>\n      <td>0.955720</td>\n      <td>0.915622</td>\n      <td>0.914422</td>\n      <td>NaN</td>\n      <td>...</td>\n      <td>NaN</td>\n      <td>NaN</td>\n      <td>NaN</td>\n      <td>NaN</td>\n      <td>NaN</td>\n      <td>NaN</td>\n      <td>NaN</td>\n      <td>NaN</td>\n      <td>NaN</td>\n      <td>NaN</td>\n    </tr>\n    <tr>\n      <th>S2_B6_jan</th>\n      <td>NaN</td>\n      <td>NaN</td>\n      <td>NaN</td>\n      <td>NaN</td>\n      <td>NaN</td>\n      <td>0.995991</td>\n      <td>0.943824</td>\n      <td>NaN</td>\n      <td>NaN</td>\n      <td>NaN</td>\n      <td>...</td>\n      <td>NaN</td>\n      <td>NaN</td>\n      <td>NaN</td>\n      <td>NaN</td>\n      <td>NaN</td>\n      <td>NaN</td>\n      <td>NaN</td>\n      <td>NaN</td>\n      <td>NaN</td>\n      <td>NaN</td>\n    </tr>\n    <tr>\n      <th>S2_B7_jan</th>\n      <td>NaN</td>\n      <td>NaN</td>\n      <td>NaN</td>\n      <td>NaN</td>\n      <td>NaN</td>\n      <td>NaN</td>\n      <td>0.961790</td>\n      <td>0.920910</td>\n      <td>0.918681</td>\n      <td>NaN</td>\n      <td>...</td>\n      <td>NaN</td>\n      <td>NaN</td>\n      <td>NaN</td>\n      <td>NaN</td>\n      <td>NaN</td>\n      <td>NaN</td>\n      <td>NaN</td>\n      <td>NaN</td>\n      <td>NaN</td>\n      <td>NaN</td>\n    </tr>\n    <tr>\n      <th>S2_B8_jan</th>\n      <td>NaN</td>\n      <td>NaN</td>\n      <td>NaN</td>\n      <td>NaN</td>\n      <td>NaN</td>\n      <td>NaN</td>\n      <td>NaN</td>\n      <td>0.991239</td>\n      <td>0.986729</td>\n      <td>0.978979</td>\n      <td>...</td>\n      <td>NaN</td>\n      <td>NaN</td>\n      <td>NaN</td>\n      <td>NaN</td>\n      <td>NaN</td>\n      <td>NaN</td>\n      <td>NaN</td>\n      <td>NaN</td>\n      <td>NaN</td>\n      <td>NaN</td>\n    </tr>\n    <tr>\n      <th>S2_B8A_jan</th>\n      <td>NaN</td>\n      <td>NaN</td>\n      <td>NaN</td>\n      <td>NaN</td>\n      <td>NaN</td>\n      <td>NaN</td>\n      <td>NaN</td>\n      <td>NaN</td>\n      <td>0.993940</td>\n      <td>0.996131</td>\n      <td>...</td>\n      <td>NaN</td>\n      <td>NaN</td>\n      <td>NaN</td>\n      <td>NaN</td>\n      <td>NaN</td>\n      <td>NaN</td>\n      <td>NaN</td>\n      <td>NaN</td>\n      <td>NaN</td>\n      <td>NaN</td>\n    </tr>\n    <tr>\n      <th>S2_B9_jan</th>\n      <td>NaN</td>\n      <td>NaN</td>\n      <td>NaN</td>\n      <td>NaN</td>\n      <td>NaN</td>\n      <td>NaN</td>\n      <td>NaN</td>\n      <td>NaN</td>\n      <td>NaN</td>\n      <td>0.990915</td>\n      <td>...</td>\n      <td>NaN</td>\n      <td>NaN</td>\n      <td>NaN</td>\n      <td>NaN</td>\n      <td>NaN</td>\n      <td>NaN</td>\n      <td>NaN</td>\n      <td>NaN</td>\n      <td>NaN</td>\n      <td>NaN</td>\n    </tr>\n    <tr>\n      <th>S2_B11_jan</th>\n      <td>NaN</td>\n      <td>NaN</td>\n      <td>NaN</td>\n      <td>NaN</td>\n      <td>NaN</td>\n      <td>NaN</td>\n      <td>NaN</td>\n      <td>NaN</td>\n      <td>NaN</td>\n      <td>NaN</td>\n      <td>...</td>\n      <td>NaN</td>\n      <td>NaN</td>\n      <td>NaN</td>\n      <td>NaN</td>\n      <td>NaN</td>\n      <td>NaN</td>\n      <td>NaN</td>\n      <td>NaN</td>\n      <td>NaN</td>\n      <td>NaN</td>\n    </tr>\n    <tr>\n      <th>S2_B12_jan</th>\n      <td>NaN</td>\n      <td>NaN</td>\n      <td>NaN</td>\n      <td>NaN</td>\n      <td>NaN</td>\n      <td>NaN</td>\n      <td>NaN</td>\n      <td>NaN</td>\n      <td>NaN</td>\n      <td>NaN</td>\n      <td>...</td>\n      <td>NaN</td>\n      <td>NaN</td>\n      <td>NaN</td>\n      <td>NaN</td>\n      <td>NaN</td>\n      <td>NaN</td>\n      <td>NaN</td>\n      <td>NaN</td>\n      <td>NaN</td>\n      <td>NaN</td>\n    </tr>\n    <tr>\n      <th>S1_VV_jan</th>\n      <td>NaN</td>\n      <td>NaN</td>\n      <td>NaN</td>\n      <td>NaN</td>\n      <td>NaN</td>\n      <td>NaN</td>\n      <td>NaN</td>\n      <td>NaN</td>\n      <td>NaN</td>\n      <td>NaN</td>\n      <td>...</td>\n      <td>NaN</td>\n      <td>NaN</td>\n      <td>NaN</td>\n      <td>NaN</td>\n      <td>NaN</td>\n      <td>NaN</td>\n      <td>NaN</td>\n      <td>NaN</td>\n      <td>NaN</td>\n      <td>NaN</td>\n    </tr>\n    <tr>\n      <th>S1_VH_jan</th>\n      <td>NaN</td>\n      <td>NaN</td>\n      <td>NaN</td>\n      <td>NaN</td>\n      <td>NaN</td>\n      <td>NaN</td>\n      <td>NaN</td>\n      <td>NaN</td>\n      <td>NaN</td>\n      <td>NaN</td>\n      <td>...</td>\n      <td>NaN</td>\n      <td>NaN</td>\n      <td>NaN</td>\n      <td>NaN</td>\n      <td>NaN</td>\n      <td>NaN</td>\n      <td>NaN</td>\n      <td>NaN</td>\n      <td>NaN</td>\n      <td>NaN</td>\n    </tr>\n    <tr>\n      <th>ERA5_temperature_2m_jan</th>\n      <td>NaN</td>\n      <td>NaN</td>\n      <td>NaN</td>\n      <td>NaN</td>\n      <td>NaN</td>\n      <td>NaN</td>\n      <td>NaN</td>\n      <td>NaN</td>\n      <td>NaN</td>\n      <td>NaN</td>\n      <td>...</td>\n      <td>NaN</td>\n      <td>NaN</td>\n      <td>NaN</td>\n      <td>NaN</td>\n      <td>0.984588</td>\n      <td>NaN</td>\n      <td>NaN</td>\n      <td>NaN</td>\n      <td>NaN</td>\n      <td>NaN</td>\n    </tr>\n    <tr>\n      <th>ERA5_total_precipitation_jan</th>\n      <td>NaN</td>\n      <td>NaN</td>\n      <td>NaN</td>\n      <td>NaN</td>\n      <td>NaN</td>\n      <td>NaN</td>\n      <td>NaN</td>\n      <td>NaN</td>\n      <td>NaN</td>\n      <td>NaN</td>\n      <td>...</td>\n      <td>NaN</td>\n      <td>NaN</td>\n      <td>NaN</td>\n      <td>NaN</td>\n      <td>NaN</td>\n      <td>NaN</td>\n      <td>NaN</td>\n      <td>NaN</td>\n      <td>NaN</td>\n      <td>NaN</td>\n    </tr>\n    <tr>\n      <th>topo_elevation_jan</th>\n      <td>NaN</td>\n      <td>NaN</td>\n      <td>NaN</td>\n      <td>NaN</td>\n      <td>NaN</td>\n      <td>NaN</td>\n      <td>NaN</td>\n      <td>NaN</td>\n      <td>NaN</td>\n      <td>NaN</td>\n      <td>...</td>\n      <td>NaN</td>\n      <td>NaN</td>\n      <td>NaN</td>\n      <td>NaN</td>\n      <td>NaN</td>\n      <td>NaN</td>\n      <td>1.0</td>\n      <td>NaN</td>\n      <td>NaN</td>\n      <td>NaN</td>\n    </tr>\n    <tr>\n      <th>topo_slope_jan</th>\n      <td>NaN</td>\n      <td>NaN</td>\n      <td>NaN</td>\n      <td>NaN</td>\n      <td>NaN</td>\n      <td>NaN</td>\n      <td>NaN</td>\n      <td>NaN</td>\n      <td>NaN</td>\n      <td>NaN</td>\n      <td>...</td>\n      <td>NaN</td>\n      <td>NaN</td>\n      <td>NaN</td>\n      <td>NaN</td>\n      <td>NaN</td>\n      <td>NaN</td>\n      <td>NaN</td>\n      <td>1.0</td>\n      <td>NaN</td>\n      <td>NaN</td>\n    </tr>\n    <tr>\n      <th>NDVI_jan</th>\n      <td>NaN</td>\n      <td>NaN</td>\n      <td>NaN</td>\n      <td>NaN</td>\n      <td>NaN</td>\n      <td>NaN</td>\n      <td>NaN</td>\n      <td>NaN</td>\n      <td>NaN</td>\n      <td>NaN</td>\n      <td>...</td>\n      <td>NaN</td>\n      <td>NaN</td>\n      <td>NaN</td>\n      <td>NaN</td>\n      <td>NaN</td>\n      <td>NaN</td>\n      <td>NaN</td>\n      <td>NaN</td>\n      <td>NaN</td>\n      <td>NaN</td>\n    </tr>\n    <tr>\n      <th>S2_B2_feb</th>\n      <td>NaN</td>\n      <td>NaN</td>\n      <td>NaN</td>\n      <td>NaN</td>\n      <td>NaN</td>\n      <td>NaN</td>\n      <td>NaN</td>\n      <td>NaN</td>\n      <td>NaN</td>\n      <td>NaN</td>\n      <td>...</td>\n      <td>NaN</td>\n      <td>NaN</td>\n      <td>NaN</td>\n      <td>NaN</td>\n      <td>NaN</td>\n      <td>NaN</td>\n      <td>NaN</td>\n      <td>NaN</td>\n      <td>NaN</td>\n      <td>NaN</td>\n    </tr>\n    <tr>\n      <th>S2_B3_feb</th>\n      <td>NaN</td>\n      <td>NaN</td>\n      <td>NaN</td>\n      <td>NaN</td>\n      <td>NaN</td>\n      <td>NaN</td>\n      <td>NaN</td>\n      <td>NaN</td>\n      <td>NaN</td>\n      <td>NaN</td>\n      <td>...</td>\n      <td>NaN</td>\n      <td>NaN</td>\n      <td>NaN</td>\n      <td>NaN</td>\n      <td>NaN</td>\n      <td>NaN</td>\n      <td>NaN</td>\n      <td>NaN</td>\n      <td>NaN</td>\n      <td>NaN</td>\n    </tr>\n  </tbody>\n</table>\n<p>20 rows × 217 columns</p>\n</div>"
     },
     "execution_count": 15,
     "metadata": {},
     "output_type": "execute_result"
    }
   ],
   "source": [
    "# Threshold for removing correlated variables\n",
    "threshold = 0.9\n",
    "\n",
    "# Absolute value correlation matrix\n",
    "corr_matrix = train.corr().abs()\n",
    "# Upper triangle of correlations\n",
    "upper = corr_matrix.where(np.triu(np.ones(corr_matrix.shape), k=1).astype(bool))\n",
    "upper[upper>0.9].head(20)"
   ]
  },
  {
   "cell_type": "markdown",
   "metadata": {},
   "source": [
    "Let's drop all columns that are at least 0.9 correlated with another feature"
   ]
  },
  {
   "cell_type": "code",
   "execution_count": 16,
   "metadata": {},
   "outputs": [
    {
     "name": "stdout",
     "output_type": "stream",
     "text": [
      "Columns to drop: ['S2_B5_jan', 'S2_B6_jan', 'S2_B7_jan', 'S2_B8_jan', 'S2_B8A_jan', 'S2_B9_jan', 'S2_B11_jan', 'S1_VH_jan', 'S2_B5_feb', 'S2_B6_feb', 'S2_B7_feb', 'S2_B8_feb', 'S2_B8A_feb', 'S2_B9_feb', 'S2_B11_feb', 'S1_VH_feb', 'ERA5_temperature_2m_feb', 'topo_elevation_feb', 'topo_slope_feb', 'S2_B5_mar', 'S2_B6_mar', 'S2_B7_mar', 'S2_B8_mar', 'S2_B8A_mar', 'S2_B9_mar', 'S2_B11_mar', 'S1_VH_mar', 'ERA5_temperature_2m_mar', 'topo_elevation_mar', 'topo_slope_mar', 'S2_B5_apr', 'S2_B6_apr', 'S2_B7_apr', 'S2_B8A_apr', 'S2_B9_apr', 'S2_B11_apr', 'S1_VH_apr', 'ERA5_temperature_2m_apr', 'topo_elevation_apr', 'topo_slope_apr', 'S2_B5_may', 'S2_B6_may', 'S2_B7_may', 'S2_B8A_may', 'S2_B9_may', 'S2_B11_may', 'S1_VH_may', 'topo_elevation_may', 'topo_slope_may', 'S2_B5_jun', 'S2_B6_jun', 'S2_B7_jun', 'S2_B8A_jun', 'S2_B9_jun', 'S2_B11_jun', 'S1_VH_jun', 'ERA5_temperature_2m_jun', 'topo_elevation_jun', 'topo_slope_jun', 'S2_B5_jul', 'S2_B6_jul', 'S2_B7_jul', 'S2_B8A_jul', 'S2_B9_jul', 'S2_B11_jul', 'S1_VH_jul', 'ERA5_temperature_2m_jul', 'topo_elevation_jul', 'topo_slope_jul', 'S2_B5_aug', 'S2_B6_aug', 'S2_B7_aug', 'S2_B8A_aug', 'S2_B9_aug', 'S2_B11_aug', 'S1_VH_aug', 'ERA5_temperature_2m_aug', 'topo_elevation_aug', 'topo_slope_aug', 'S2_B5_sep', 'S2_B6_sep', 'S2_B7_sep', 'S2_B8A_sep', 'S2_B9_sep', 'S2_B11_sep', 'S1_VH_sep', 'ERA5_temperature_2m_sep', 'topo_elevation_sep', 'topo_slope_sep', 'S2_B5_oct', 'S2_B6_oct', 'S2_B7_oct', 'S2_B8_oct', 'S2_B8A_oct', 'S2_B9_oct', 'S2_B11_oct', 'S1_VH_oct', 'ERA5_temperature_2m_oct', 'topo_elevation_oct', 'topo_slope_oct', 'S2_B5_nov', 'S2_B6_nov', 'S2_B7_nov', 'S2_B8_nov', 'S2_B8A_nov', 'S2_B9_nov', 'S2_B11_nov', 'S2_B12_nov', 'S1_VH_nov', 'ERA5_temperature_2m_nov', 'topo_elevation_nov', 'topo_slope_nov', 'S2_B5_dec', 'S2_B6_dec', 'S2_B7_dec', 'S2_B8_dec', 'S2_B8A_dec', 'S2_B9_dec', 'S2_B11_dec', 'S2_B12_dec', 'S1_VH_dec', 'ERA5_temperature_2m_dec', 'topo_elevation_dec', 'topo_slope_dec']\n",
      "There are 124 columns to remove.\n",
      "Training shape:  (62000, 93)\n",
      "Testing shape:  (1200, 92)\n"
     ]
    }
   ],
   "source": [
    "# Select columns with correlations above threshold\n",
    "to_drop = [column for column in upper.columns if any(upper[column] > threshold)]\n",
    "print(f'Columns to drop: {to_drop}')\n",
    "print('There are %d columns to remove.' % (len(to_drop)))\n",
    "train = train.drop(columns = to_drop)\n",
    "test = test.drop(columns = to_drop)\n",
    "\n",
    "print('Training shape: ', train.shape)\n",
    "print('Testing shape: ', test.shape)"
   ]
  },
  {
   "cell_type": "markdown",
   "metadata": {},
   "source": [
    "## Missing Values"
   ]
  },
  {
   "cell_type": "code",
   "execution_count": 17,
   "metadata": {},
   "outputs": [
    {
     "data": {
      "text/plain": "S2_B2_jan    0.0\nS2_B4_aug    0.0\nS2_B8_sep    0.0\nS2_B4_sep    0.0\nS2_B3_sep    0.0\ndtype: float64"
     },
     "execution_count": 17,
     "metadata": {},
     "output_type": "execute_result"
    }
   ],
   "source": [
    "# Train missing values (in percent)\n",
    "train_missing = (train.isnull().sum() / len(train)).sort_values(ascending = False)\n",
    "train_missing.head()"
   ]
  },
  {
   "cell_type": "code",
   "execution_count": 18,
   "metadata": {},
   "outputs": [
    {
     "data": {
      "text/plain": "S2_B2_jan    0.0\nS2_B3_aug    0.0\nS2_B4_sep    0.0\nS2_B3_sep    0.0\nS2_B2_sep    0.0\ndtype: float64"
     },
     "execution_count": 18,
     "metadata": {},
     "output_type": "execute_result"
    }
   ],
   "source": [
    "test_missing = (test.isnull().sum() / len(test)).sort_values(ascending = False)\n",
    "test_missing.head()"
   ]
  },
  {
   "cell_type": "markdown",
   "source": [
    "Nice! Not much to be done in this regard"
   ],
   "metadata": {
    "collapsed": false,
    "pycharm": {
     "name": "#%% md\n"
    }
   }
  },
  {
   "cell_type": "markdown",
   "source": [
    "## Feature Scaling"
   ],
   "metadata": {
    "collapsed": false,
    "pycharm": {
     "name": "#%% md\n"
    }
   }
  },
  {
   "cell_type": "code",
   "execution_count": 21,
   "outputs": [
    {
     "name": "stdout",
     "output_type": "stream",
     "text": [
      "Training shape:  (62000, 93)\n",
      "Testing shape:  (1200, 92)\n"
     ]
    }
   ],
   "source": [
    "columns_to_normalize = train.columns.drop('LABELS')\n",
    "scaler = StandardScaler()\n",
    "# Fit transform train\n",
    "x = train[columns_to_normalize].values\n",
    "x_scaled = scaler.fit_transform(x)\n",
    "df_temp = pd.DataFrame(x_scaled, columns=columns_to_normalize, index = train.index)\n",
    "train[columns_to_normalize] = df_temp\n",
    "# Transform test\n",
    "x = test[columns_to_normalize].values\n",
    "x_scaled = scaler.transform(x)\n",
    "df_temp = pd.DataFrame(x_scaled, columns=columns_to_normalize, index = test.index)\n",
    "test[columns_to_normalize] = df_temp\n",
    "\n",
    "print('Training shape: ', train.shape)\n",
    "print('Testing shape: ', test.shape)"
   ],
   "metadata": {
    "collapsed": false,
    "pycharm": {
     "name": "#%%\n"
    }
   }
  },
  {
   "cell_type": "markdown",
   "source": [
    "Save our processed datasets"
   ],
   "metadata": {
    "collapsed": false,
    "pycharm": {
     "name": "#%% md\n"
    }
   }
  },
  {
   "cell_type": "code",
   "execution_count": 22,
   "outputs": [],
   "source": [
    "train.to_csv('../data/processed/train_processed.csv',index=False)\n",
    "test.to_csv('../data/processed/test_processed.csv',index=False)"
   ],
   "metadata": {
    "collapsed": false,
    "pycharm": {
     "name": "#%%\n"
    }
   }
  },
  {
   "cell_type": "code",
   "execution_count": 25,
   "outputs": [
    {
     "data": {
      "text/plain": "   S2_B2_jan  S2_B3_jan    S2_B4_jan    S2_B5_jan    S2_B6_jan    S2_B7_jan  \\\n0 -14.271277 -21.134172   957.531174  1019.557045  1230.022834  1435.138891   \n1 -12.341429 -14.744978   949.227883   895.845779   987.517322  1350.496916   \n2 -12.317847 -17.026201  1087.616069  1086.401035  1185.755955  1529.674085   \n3 -15.332478 -20.978203  2987.224569  3163.553102  3412.572434  3908.443371   \n4 -11.739502 -11.374262   691.825857   782.111227   478.448214   976.753128   \n\n     S2_B8_jan   S2_B8A_jan    S2_B9_jan   S2_B11_jan  ...   S2_B11_dec  \\\n0  1693.702270  1805.411109  1891.557355  2020.567257  ...  2203.025469   \n1  1930.239804  2048.686546  2375.680146  2259.903290  ...  2922.382762   \n2  1858.981635  1904.667487  2082.954737  2115.713139  ...  2548.726966   \n3  4044.232162  4231.353770  3682.709329  4518.882323  ...  2537.545246   \n4  3189.134129  3813.893119  3861.824527  4174.591554  ...  4276.302643   \n\n    S2_B12_dec    S1_VV_dec    S1_VH_dec  ERA5_temperature_2m_dec  \\\n0   795.862978  2747.777894  1688.997611               289.382220   \n1  1140.796180  2528.590979  1934.261859               266.578370   \n2   521.102434  1556.082048   741.212901               276.467873   \n3  1073.588565  2388.141112  1367.682434               276.101799   \n4   371.861994  2080.641023   692.730434               298.663246   \n\n   ERA5_total_precipitation_dec  topo_elevation_dec  topo_slope_dec  NDVI_dec  \\\n0                      0.000147         1886.384195        0.749163  0.307887   \n1                      0.002876           69.876216        1.385904  0.097779   \n2                      0.001622           91.279743        2.125908  0.418492   \n3                      0.003720          767.817294        8.427714  0.336528   \n4                      0.001763           61.500923        1.203899  0.595404   \n\n   LABELS  \n0     0.0  \n1     1.0  \n2     1.0  \n3     1.0  \n4     1.0  \n\n[5 rows x 217 columns]",
      "text/html": "<div>\n<style scoped>\n    .dataframe tbody tr th:only-of-type {\n        vertical-align: middle;\n    }\n\n    .dataframe tbody tr th {\n        vertical-align: top;\n    }\n\n    .dataframe thead th {\n        text-align: right;\n    }\n</style>\n<table border=\"1\" class=\"dataframe\">\n  <thead>\n    <tr style=\"text-align: right;\">\n      <th></th>\n      <th>S2_B2_jan</th>\n      <th>S2_B3_jan</th>\n      <th>S2_B4_jan</th>\n      <th>S2_B5_jan</th>\n      <th>S2_B6_jan</th>\n      <th>S2_B7_jan</th>\n      <th>S2_B8_jan</th>\n      <th>S2_B8A_jan</th>\n      <th>S2_B9_jan</th>\n      <th>S2_B11_jan</th>\n      <th>...</th>\n      <th>S2_B11_dec</th>\n      <th>S2_B12_dec</th>\n      <th>S1_VV_dec</th>\n      <th>S1_VH_dec</th>\n      <th>ERA5_temperature_2m_dec</th>\n      <th>ERA5_total_precipitation_dec</th>\n      <th>topo_elevation_dec</th>\n      <th>topo_slope_dec</th>\n      <th>NDVI_dec</th>\n      <th>LABELS</th>\n    </tr>\n  </thead>\n  <tbody>\n    <tr>\n      <th>0</th>\n      <td>-14.271277</td>\n      <td>-21.134172</td>\n      <td>957.531174</td>\n      <td>1019.557045</td>\n      <td>1230.022834</td>\n      <td>1435.138891</td>\n      <td>1693.702270</td>\n      <td>1805.411109</td>\n      <td>1891.557355</td>\n      <td>2020.567257</td>\n      <td>...</td>\n      <td>2203.025469</td>\n      <td>795.862978</td>\n      <td>2747.777894</td>\n      <td>1688.997611</td>\n      <td>289.382220</td>\n      <td>0.000147</td>\n      <td>1886.384195</td>\n      <td>0.749163</td>\n      <td>0.307887</td>\n      <td>0.0</td>\n    </tr>\n    <tr>\n      <th>1</th>\n      <td>-12.341429</td>\n      <td>-14.744978</td>\n      <td>949.227883</td>\n      <td>895.845779</td>\n      <td>987.517322</td>\n      <td>1350.496916</td>\n      <td>1930.239804</td>\n      <td>2048.686546</td>\n      <td>2375.680146</td>\n      <td>2259.903290</td>\n      <td>...</td>\n      <td>2922.382762</td>\n      <td>1140.796180</td>\n      <td>2528.590979</td>\n      <td>1934.261859</td>\n      <td>266.578370</td>\n      <td>0.002876</td>\n      <td>69.876216</td>\n      <td>1.385904</td>\n      <td>0.097779</td>\n      <td>1.0</td>\n    </tr>\n    <tr>\n      <th>2</th>\n      <td>-12.317847</td>\n      <td>-17.026201</td>\n      <td>1087.616069</td>\n      <td>1086.401035</td>\n      <td>1185.755955</td>\n      <td>1529.674085</td>\n      <td>1858.981635</td>\n      <td>1904.667487</td>\n      <td>2082.954737</td>\n      <td>2115.713139</td>\n      <td>...</td>\n      <td>2548.726966</td>\n      <td>521.102434</td>\n      <td>1556.082048</td>\n      <td>741.212901</td>\n      <td>276.467873</td>\n      <td>0.001622</td>\n      <td>91.279743</td>\n      <td>2.125908</td>\n      <td>0.418492</td>\n      <td>1.0</td>\n    </tr>\n    <tr>\n      <th>3</th>\n      <td>-15.332478</td>\n      <td>-20.978203</td>\n      <td>2987.224569</td>\n      <td>3163.553102</td>\n      <td>3412.572434</td>\n      <td>3908.443371</td>\n      <td>4044.232162</td>\n      <td>4231.353770</td>\n      <td>3682.709329</td>\n      <td>4518.882323</td>\n      <td>...</td>\n      <td>2537.545246</td>\n      <td>1073.588565</td>\n      <td>2388.141112</td>\n      <td>1367.682434</td>\n      <td>276.101799</td>\n      <td>0.003720</td>\n      <td>767.817294</td>\n      <td>8.427714</td>\n      <td>0.336528</td>\n      <td>1.0</td>\n    </tr>\n    <tr>\n      <th>4</th>\n      <td>-11.739502</td>\n      <td>-11.374262</td>\n      <td>691.825857</td>\n      <td>782.111227</td>\n      <td>478.448214</td>\n      <td>976.753128</td>\n      <td>3189.134129</td>\n      <td>3813.893119</td>\n      <td>3861.824527</td>\n      <td>4174.591554</td>\n      <td>...</td>\n      <td>4276.302643</td>\n      <td>371.861994</td>\n      <td>2080.641023</td>\n      <td>692.730434</td>\n      <td>298.663246</td>\n      <td>0.001763</td>\n      <td>61.500923</td>\n      <td>1.203899</td>\n      <td>0.595404</td>\n      <td>1.0</td>\n    </tr>\n  </tbody>\n</table>\n<p>5 rows × 217 columns</p>\n</div>"
     },
     "execution_count": 25,
     "metadata": {},
     "output_type": "execute_result"
    }
   ],
   "source": [
    "train.head()"
   ],
   "metadata": {
    "collapsed": false,
    "pycharm": {
     "name": "#%%\n"
    }
   }
  },
  {
   "cell_type": "code",
   "execution_count": 26,
   "outputs": [
    {
     "data": {
      "text/plain": "1.0    41217\n0.0    20783\nName: LABELS, dtype: int64"
     },
     "execution_count": 26,
     "metadata": {},
     "output_type": "execute_result"
    }
   ],
   "source": [
    "train['LABELS'].value_counts()"
   ],
   "metadata": {
    "collapsed": false,
    "pycharm": {
     "name": "#%%\n"
    }
   }
  },
  {
   "cell_type": "code",
   "execution_count": null,
   "outputs": [],
   "source": [],
   "metadata": {
    "collapsed": false,
    "pycharm": {
     "name": "#%%\n"
    }
   }
  }
 ],
 "metadata": {
  "kernelspec": {
   "display_name": "Python 3",
   "language": "python",
   "name": "python3"
  },
  "language_info": {
   "codemirror_mode": {
    "name": "ipython",
    "version": 2
   },
   "file_extension": ".py",
   "mimetype": "text/x-python",
   "name": "python",
   "nbconvert_exporter": "python",
   "pygments_lexer": "ipython2",
   "version": "2.7.6"
  }
 },
 "nbformat": 4,
 "nbformat_minor": 0
}